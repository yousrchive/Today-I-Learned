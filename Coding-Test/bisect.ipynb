{
 "cells": [
  {
   "cell_type": "markdown",
   "metadata": {},
   "source": [
    "### 유형 1"
   ]
  },
  {
   "cell_type": "code",
   "execution_count": 11,
   "metadata": {},
   "outputs": [],
   "source": [
    "import sys"
   ]
  },
  {
   "cell_type": "code",
   "execution_count": 17,
   "metadata": {},
   "outputs": [],
   "source": [
    "N = int(input())\n",
    "cards = list(map(int, input().split())) #공백을 기준으로 잘라 input으로 받은 것을 각각에 매칭\n",
    "cards.sort()"
   ]
  },
  {
   "cell_type": "code",
   "execution_count": 13,
   "metadata": {},
   "outputs": [
    {
     "data": {
      "text/plain": [
       "[-10, 2, 3, 6, 10]"
      ]
     },
     "execution_count": 13,
     "metadata": {},
     "output_type": "execute_result"
    }
   ],
   "source": [
    "cards #cards에 저장되는 것은 오름차순 순서대로의 리스트"
   ]
  },
  {
   "cell_type": "code",
   "execution_count": 18,
   "metadata": {},
   "outputs": [
    {
     "data": {
      "text/plain": [
       "5"
      ]
     },
     "execution_count": 18,
     "metadata": {},
     "output_type": "execute_result"
    }
   ],
   "source": [
    "N #cards 요소의 개수"
   ]
  },
  {
   "cell_type": "code",
   "execution_count": 19,
   "metadata": {},
   "outputs": [],
   "source": [
    "M = int(input())\n",
    "finds = map(int, input().split())"
   ]
  },
  {
   "cell_type": "code",
   "execution_count": 20,
   "metadata": {},
   "outputs": [
    {
     "name": "stdout",
     "output_type": "stream",
     "text": [
      "1 0 0 1 1 0 0 1 "
     ]
    }
   ],
   "source": [
    "for find in finds:\n",
    "    l, r = 0, len(cards) #초기값 설정\n",
    "    while l < r:\n",
    "        mid = (l+r) //2\n",
    "        check = cards[mid] #mid의 값이 target이 될 때까지\n",
    "        if find == check:\n",
    "            print(1, end=' ')\n",
    "            break\n",
    "        elif find < check:\n",
    "            r = mid\n",
    "\n",
    "        elif check < find:\n",
    "            l = mid +1 \n",
    "\n",
    "    else:\n",
    "        print(0, end=' ')"
   ]
  },
  {
   "cell_type": "markdown",
   "metadata": {},
   "source": [
    "l, r을 정해두고 중간 값이 target이 될 때까지 확인함.\n",
    "그래서 만약 같으면 break하고, 그렇지 않고 find > check -> mid의 값이 좀 더 오른쪽으로 가야 함 -> left 이동"
   ]
  },
  {
   "cell_type": "markdown",
   "metadata": {},
   "source": [
    "## 유형2"
   ]
  },
  {
   "cell_type": "markdown",
   "metadata": {},
   "source": [
    "배열에서 찾고자 하는 원소가 여러개일 경우, sort() 후 가장 왼쪽, 오른쪽의 값 인덱스를 감하면 해당 원소의 개수가 된다."
   ]
  },
  {
   "cell_type": "markdown",
   "metadata": {},
   "source": [
    "## Parametic Search"
   ]
  },
  {
   "cell_type": "markdown",
   "metadata": {},
   "source": [
    "나무 자르기 예제\n",
    "https://www.acmicpc.net/problem/2805\n",
    "적어도 M미터의 나무를 집에 가져가기 위해서 절단기에 설정할 수 있는 높이의 최댓값 출력하는 문제"
   ]
  },
  {
   "cell_type": "markdown",
   "metadata": {},
   "source": [
    "FFFFFFTTTTTT TTTTFFFFF 등에서 가장 처음 F를 찾는 것, 가장 마지막 T를 찾는 것, 혹은 F, T의 개수를 찾는 것이 될 수 있겠다."
   ]
  },
  {
   "cell_type": "markdown",
   "metadata": {},
   "source": [
    "가장 처음 등장하는 F를 찾는 것, F면 r을 줄이고, T면 l을 늘리기. 그러다보면 l = r = F가 됨"
   ]
  },
  {
   "cell_type": "markdown",
   "metadata": {},
   "source": [
    "1. 입력값 읽기: 나무의 개수 N과 필요한 나무의 길이 M을 읽고, 나무의 높이를 리스트로 저장"
   ]
  },
  {
   "cell_type": "code",
   "execution_count": 5,
   "metadata": {},
   "outputs": [],
   "source": [
    "N, M = map(int, input().split())\n",
    "trees = list(map(int, input().split()))"
   ]
  },
  {
   "cell_type": "code",
   "execution_count": 9,
   "metadata": {},
   "outputs": [
    {
     "name": "stdout",
     "output_type": "stream",
     "text": [
      "15\n"
     ]
    }
   ],
   "source": [
    "def can_cut_trees(trees, height, required_length): #나무 개수, 각각의 키 리스트, 필요한 길이를 인수로 지정\n",
    "    total = 0\n",
    "    for tree in trees:\n",
    "        if tree > height: #나무가 더 큼\n",
    "            total += tree - height #각 tree에서 얻을 수 있는 height를 총 값에 추가\n",
    "    return total >= required_length\n",
    "\n",
    "def find_max_height(trees, required_length):\n",
    "    low, high = 0, max(trees)\n",
    "    best_height = 0\n",
    "\n",
    "    while low <= high:\n",
    "        mid = (low +high)//2\n",
    "        if can_cut_trees(trees, mid, required_length):\n",
    "            best_height = mid\n",
    "            low = mid + 1\n",
    "        else:\n",
    "            high = mid -1\n",
    "\n",
    "    return best_height\n",
    "\n",
    "result = find_max_height(trees, M)\n",
    "print(result)"
   ]
  },
  {
   "cell_type": "markdown",
   "metadata": {},
   "source": [
    "can_cut_trees는 주어진 높이에서 얼마나 많은 나무를 얻을 수 있는지 계산\n",
    "find_max_height는 이분 탐색으로 최대 높이 탐색"
   ]
  },
  {
   "cell_type": "markdown",
   "metadata": {},
   "source": [
    "2. 이분 탐색 준비: 최소 높이 0에서 최대 높이까지 이분 탐색을 진행"
   ]
  }
 ],
 "metadata": {
  "kernelspec": {
   "display_name": "Python 3",
   "language": "python",
   "name": "python3"
  },
  "language_info": {
   "codemirror_mode": {
    "name": "ipython",
    "version": 3
   },
   "file_extension": ".py",
   "mimetype": "text/x-python",
   "name": "python",
   "nbconvert_exporter": "python",
   "pygments_lexer": "ipython3",
   "version": "3.11.10"
  }
 },
 "nbformat": 4,
 "nbformat_minor": 2
}
