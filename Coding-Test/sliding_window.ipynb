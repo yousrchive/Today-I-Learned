{
 "cells": [
  {
   "cell_type": "markdown",
   "metadata": {},
   "source": [
    "# 슬라이딩 윈도우"
   ]
  },
  {
   "cell_type": "markdown",
   "metadata": {},
   "source": [
    "main idea : window를 한 칸 옮기면 w-1 칸은 겹친다. 그러므로, 이전의 결과를 써먹자\n"
   ]
  },
  {
   "cell_type": "markdown",
   "metadata": {},
   "source": [
    "## 슬라이딩 윈도우: Anagram"
   ]
  },
  {
   "cell_type": "markdown",
   "metadata": {},
   "source": [
    "알파벳의 구성은 유지한 채 순서만 뒤바뀐 단어 관계"
   ]
  },
  {
   "cell_type": "code",
   "execution_count": 9,
   "metadata": {},
   "outputs": [],
   "source": [
    "s1 = \"abr\"\n",
    "s2 = \"abracadabra\""
   ]
  },
  {
   "cell_type": "code",
   "execution_count": 13,
   "metadata": {},
   "outputs": [
    {
     "ename": "NameError",
     "evalue": "name 'char' is not defined",
     "output_type": "error",
     "traceback": [
      "\u001b[0;31m---------------------------------------------------------------------------\u001b[0m",
      "\u001b[0;31mNameError\u001b[0m                                 Traceback (most recent call last)",
      "Cell \u001b[0;32mIn[13], line 1\u001b[0m\n\u001b[0;32m----> 1\u001b[0m s1_freq[\u001b[38;5;28mord\u001b[39m(\u001b[43mchar\u001b[49m) \u001b[38;5;241m-\u001b[39m \u001b[38;5;28mord\u001b[39m(\u001b[38;5;124m'\u001b[39m\u001b[38;5;124ma\u001b[39m\u001b[38;5;124m'\u001b[39m)] \u001b[38;5;241m+\u001b[39m\u001b[38;5;241m=\u001b[39m \u001b[38;5;241m1\u001b[39m\n",
      "\u001b[0;31mNameError\u001b[0m: name 'char' is not defined"
     ]
    }
   ],
   "source": [
    "s1_freq[ord(char) - ord('a')] += 1"
   ]
  },
  {
   "cell_type": "code",
   "execution_count": 12,
   "metadata": {},
   "outputs": [
    {
     "name": "stdout",
     "output_type": "stream",
     "text": [
      "4\n"
     ]
    }
   ],
   "source": [
    "def count_anagrams(s1, s2):\n",
    "    s1_length = len(s1)\n",
    "    s2_length = len(s2)\n",
    "    count = 0\n",
    "\n",
    "    # s1의 문자 빈도 계산\n",
    "    s1_freq = [0] * 26\n",
    "    for char in s1:\n",
    "        s1_freq[ord(char) - ord('a')] += 1\n",
    "\n",
    "    # 슬라이딩 윈도우 초기화\n",
    "    window_freq = [0] * 26\n",
    "    for i in range(s1_length - 1):\n",
    "        window_freq[ord(s2[i]) - ord('a')] += 1\n",
    "\n",
    "    # 슬라이딩 윈도우를 사용하여 anagram 개수 계산\n",
    "    for i in range(s1_length - 1, s2_length):\n",
    "        # 현재 문자 추가\n",
    "        window_freq[ord(s2[i]) - ord('a')] += 1\n",
    "\n",
    "        # 현재 윈도우와 s1 비교\n",
    "        if window_freq == s1_freq:\n",
    "            count += 1\n",
    "\n",
    "        # 윈도우의 왼쪽 문자 제거\n",
    "        start_char = s2[i - s1_length + 1]\n",
    "        window_freq[ord(start_char) - ord('a')] -= 1\n",
    "\n",
    "    return count\n",
    "\n",
    "# 예제 실행\n",
    "s1 = \"abr\"\n",
    "s2 = \"abracadabra\"\n",
    "result = count_anagrams(s1, s2)\n",
    "print(result)  # 출력: 3"
   ]
  },
  {
   "cell_type": "markdown",
   "metadata": {},
   "source": [
    "### 슬라이딩 윈도우: 구간 최솟값"
   ]
  },
  {
   "cell_type": "markdown",
   "metadata": {},
   "source": [
    "## 슬라이딩 윈도우: DNA 비밀번호"
   ]
  },
  {
   "cell_type": "markdown",
   "metadata": {},
   "source": [
    "https://www.acmicpc.net/problem/12891"
   ]
  },
  {
   "cell_type": "code",
   "execution_count": 1,
   "metadata": {},
   "outputs": [],
   "source": [
    "sample = 'AAACCTGCCAA'"
   ]
  },
  {
   "cell_type": "code",
   "execution_count": 22,
   "metadata": {},
   "outputs": [],
   "source": [
    "part_len, string_len = map(int, input().split())\n",
    "dna_string = input()\n",
    "min_count = list(map(int, input().split()))"
   ]
  },
  {
   "cell_type": "code",
   "execution_count": null,
   "metadata": {},
   "outputs": [],
   "source": [
    "current_count = {'A': 0, 'C':0, 'G':0, 'T':0}\n",
    "\n",
    "for i in range(part_len): #제일 처음에 0번 index부터 부분스트링의 길이까지\n",
    "    current_count[dna_string[i]] += 1"
   ]
  },
  {
   "cell_type": "code",
   "execution_count": null,
   "metadata": {},
   "outputs": [
    {
     "data": {
      "text/plain": [
       "dict"
      ]
     },
     "execution_count": 28,
     "metadata": {},
     "output_type": "execute_result"
    }
   ],
   "source": [
    "type(current_count)\n",
    "#딕셔너리 형태에 하나씩 더해가며 count"
   ]
  },
  {
   "cell_type": "code",
   "execution_count": 26,
   "metadata": {},
   "outputs": [
    {
     "data": {
      "text/plain": [
       "{'A': 1, 'C': 2, 'G': 3, 'T': 3}"
      ]
     },
     "execution_count": 26,
     "metadata": {},
     "output_type": "execute_result"
    }
   ],
   "source": [
    "current_count"
   ]
  },
  {
   "cell_type": "code",
   "execution_count": null,
   "metadata": {},
   "outputs": [
    {
     "data": {
      "text/plain": [
       "'C'"
      ]
     },
     "execution_count": 31,
     "metadata": {},
     "output_type": "execute_result"
    }
   ],
   "source": [
    "dna_string[1]\n",
    "#string은 자동 index = 알파벳 하나"
   ]
  },
  {
   "cell_type": "code",
   "execution_count": 32,
   "metadata": {},
   "outputs": [
    {
     "ename": "ValueError",
     "evalue": "not enough values to unpack (expected 2, got 0)",
     "output_type": "error",
     "traceback": [
      "\u001b[0;31m---------------------------------------------------------------------------\u001b[0m",
      "\u001b[0;31mValueError\u001b[0m                                Traceback (most recent call last)",
      "Cell \u001b[0;32mIn[32], line 30\u001b[0m\n\u001b[1;32m     26\u001b[0m             valid_password_count \u001b[38;5;241m+\u001b[39m\u001b[38;5;241m=\u001b[39m \u001b[38;5;241m1\u001b[39m\n\u001b[1;32m     28\u001b[0m     \u001b[38;5;28;01mreturn\u001b[39;00m valid_password_count\n\u001b[0;32m---> 30\u001b[0m part_len, string_len \u001b[38;5;241m=\u001b[39m \u001b[38;5;28mmap\u001b[39m(\u001b[38;5;28mint\u001b[39m, \u001b[38;5;28minput\u001b[39m()\u001b[38;5;241m.\u001b[39msplit())\n\u001b[1;32m     31\u001b[0m dna_string \u001b[38;5;241m=\u001b[39m \u001b[38;5;28minput\u001b[39m()\n\u001b[1;32m     32\u001b[0m min_count \u001b[38;5;241m=\u001b[39m \u001b[38;5;28mlist\u001b[39m(\u001b[38;5;28mmap\u001b[39m(\u001b[38;5;28mint\u001b[39m, \u001b[38;5;28minput\u001b[39m()\u001b[38;5;241m.\u001b[39msplit()))\n",
      "\u001b[0;31mValueError\u001b[0m: not enough values to unpack (expected 2, got 0)"
     ]
    }
   ],
   "source": [
    "#문자 개수 저장\n",
    "def abc_count(string_len, part_len, dna_string, min_count):\n",
    "    min_A, min_C, min_T, min_G = min_count\n",
    "    current_count = {'A': 0, 'C':0, 'G':0, 'T':0}\n",
    "\n",
    "    for i in range(part_len):\n",
    "        current_count[dna_string[i]] += 1 #속한 알파벳들을 하나씩 더하기, 초깃값 설정\n",
    "\n",
    "    def is_valid(): #유효한지 확인\n",
    "        return (current_count['A'] >= min_A and\n",
    "                current_count['C'] >= min_C and\n",
    "                current_count['G'] >= min_G and\n",
    "                current_count['T'] >= min_T )\n",
    "    \n",
    "    valid_password_count = 0\n",
    "    if is_valid():\n",
    "        valid_password_count += 1\n",
    "        #유효할 시에만 저장\n",
    "\n",
    "    for i in range(part_len, string_len):\n",
    "        current_count[dna_string[i - part_len]] -= 1\n",
    "        current_count[dna_string[i]] += 1\n",
    "        #초깃값부터 계속 변화시키며 \n",
    "\n",
    "        if is_valid():\n",
    "            valid_password_count += 1\n",
    "\n",
    "    return valid_password_count\n",
    "\n",
    "part_len, string_len = map(int, input().split())\n",
    "dna_string = input()\n",
    "min_count = list(map(int, input().split()))\n",
    "\n",
    "result = abc_count(string_len, part_len, dna_string, min_count)\n",
    "print(result)"
   ]
  },
  {
   "cell_type": "code",
   "execution_count": 24,
   "metadata": {},
   "outputs": [
    {
     "data": {
      "text/plain": [
       "0"
      ]
     },
     "execution_count": 24,
     "metadata": {},
     "output_type": "execute_result"
    }
   ],
   "source": [
    "abc_count(string_len, part_len, dna_string, min_count)"
   ]
  },
  {
   "cell_type": "code",
   "execution_count": null,
   "metadata": {},
   "outputs": [],
   "source": []
  }
 ],
 "metadata": {
  "kernelspec": {
   "display_name": "Python 3",
   "language": "python",
   "name": "python3"
  },
  "language_info": {
   "codemirror_mode": {
    "name": "ipython",
    "version": 3
   },
   "file_extension": ".py",
   "mimetype": "text/x-python",
   "name": "python",
   "nbconvert_exporter": "python",
   "pygments_lexer": "ipython3",
   "version": "3.11.10"
  }
 },
 "nbformat": 4,
 "nbformat_minor": 2
}
